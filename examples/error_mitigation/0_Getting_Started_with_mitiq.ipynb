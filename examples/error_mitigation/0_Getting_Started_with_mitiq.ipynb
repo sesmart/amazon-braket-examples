{
 "cells": [
  {
   "cell_type": "code",
   "execution_count": 1,
   "id": "8380765f",
   "metadata": {},
   "outputs": [
    {
     "name": "stdout",
     "output_type": "stream",
     "text": [
      "Requirement already satisfied: mitiq in /Users/sesmart/coding/development/braket-examples/amazon-braket-examples/.venv/lib/python3.10/site-packages (0.47.0)\n",
      "Requirement already satisfied: numpy<2.0.0,>=1.22.0 in /Users/sesmart/coding/development/braket-examples/amazon-braket-examples/.venv/lib/python3.10/site-packages (from mitiq) (1.26.4)\n",
      "Requirement already satisfied: scipy<=1.15.2,>=1.10.1 in /Users/sesmart/coding/development/braket-examples/amazon-braket-examples/.venv/lib/python3.10/site-packages (from mitiq) (1.15.2)\n",
      "Requirement already satisfied: cirq-core<1.5.0,>=1.4.0 in /Users/sesmart/coding/development/braket-examples/amazon-braket-examples/.venv/lib/python3.10/site-packages (from mitiq) (1.4.1)\n",
      "Requirement already satisfied: tabulate in /Users/sesmart/coding/development/braket-examples/amazon-braket-examples/.venv/lib/python3.10/site-packages (from mitiq) (0.9.0)\n",
      "Requirement already satisfied: matplotlib>=3.8 in /Users/sesmart/coding/development/braket-examples/amazon-braket-examples/.venv/lib/python3.10/site-packages (from mitiq) (3.9.3)\n",
      "Requirement already satisfied: attrs>=21.3.0 in /Users/sesmart/coding/development/braket-examples/amazon-braket-examples/.venv/lib/python3.10/site-packages (from cirq-core<1.5.0,>=1.4.0->mitiq) (25.3.0)\n",
      "Requirement already satisfied: duet>=0.2.8 in /Users/sesmart/coding/development/braket-examples/amazon-braket-examples/.venv/lib/python3.10/site-packages (from cirq-core<1.5.0,>=1.4.0->mitiq) (0.2.9)\n",
      "Requirement already satisfied: networkx>=2.4 in /Users/sesmart/coding/development/braket-examples/amazon-braket-examples/.venv/lib/python3.10/site-packages (from cirq-core<1.5.0,>=1.4.0->mitiq) (3.4.2)\n",
      "Requirement already satisfied: pandas in /Users/sesmart/coding/development/braket-examples/amazon-braket-examples/.venv/lib/python3.10/site-packages (from cirq-core<1.5.0,>=1.4.0->mitiq) (2.3.2)\n",
      "Requirement already satisfied: sortedcontainers~=2.0 in /Users/sesmart/coding/development/braket-examples/amazon-braket-examples/.venv/lib/python3.10/site-packages (from cirq-core<1.5.0,>=1.4.0->mitiq) (2.4.0)\n",
      "Requirement already satisfied: sympy in /Users/sesmart/coding/development/braket-examples/amazon-braket-examples/.venv/lib/python3.10/site-packages (from cirq-core<1.5.0,>=1.4.0->mitiq) (1.12.1)\n",
      "Requirement already satisfied: typing-extensions>=4.2 in /Users/sesmart/coding/development/braket-examples/amazon-braket-examples/.venv/lib/python3.10/site-packages (from cirq-core<1.5.0,>=1.4.0->mitiq) (4.14.0)\n",
      "Requirement already satisfied: tqdm in /Users/sesmart/coding/development/braket-examples/amazon-braket-examples/.venv/lib/python3.10/site-packages (from cirq-core<1.5.0,>=1.4.0->mitiq) (4.67.1)\n",
      "Requirement already satisfied: contourpy>=1.0.1 in /Users/sesmart/coding/development/braket-examples/amazon-braket-examples/.venv/lib/python3.10/site-packages (from matplotlib>=3.8->mitiq) (1.3.2)\n",
      "Requirement already satisfied: cycler>=0.10 in /Users/sesmart/coding/development/braket-examples/amazon-braket-examples/.venv/lib/python3.10/site-packages (from matplotlib>=3.8->mitiq) (0.12.1)\n",
      "Requirement already satisfied: fonttools>=4.22.0 in /Users/sesmart/coding/development/braket-examples/amazon-braket-examples/.venv/lib/python3.10/site-packages (from matplotlib>=3.8->mitiq) (4.58.4)\n",
      "Requirement already satisfied: kiwisolver>=1.3.1 in /Users/sesmart/coding/development/braket-examples/amazon-braket-examples/.venv/lib/python3.10/site-packages (from matplotlib>=3.8->mitiq) (1.4.8)\n",
      "Requirement already satisfied: packaging>=20.0 in /Users/sesmart/coding/development/braket-examples/amazon-braket-examples/.venv/lib/python3.10/site-packages (from matplotlib>=3.8->mitiq) (25.0)\n",
      "Requirement already satisfied: pillow>=8 in /Users/sesmart/coding/development/braket-examples/amazon-braket-examples/.venv/lib/python3.10/site-packages (from matplotlib>=3.8->mitiq) (11.2.1)\n",
      "Requirement already satisfied: pyparsing>=2.3.1 in /Users/sesmart/coding/development/braket-examples/amazon-braket-examples/.venv/lib/python3.10/site-packages (from matplotlib>=3.8->mitiq) (3.2.3)\n",
      "Requirement already satisfied: python-dateutil>=2.7 in /Users/sesmart/coding/development/braket-examples/amazon-braket-examples/.venv/lib/python3.10/site-packages (from matplotlib>=3.8->mitiq) (2.9.0.post0)\n",
      "Requirement already satisfied: six>=1.5 in /Users/sesmart/coding/development/braket-examples/amazon-braket-examples/.venv/lib/python3.10/site-packages (from python-dateutil>=2.7->matplotlib>=3.8->mitiq) (1.17.0)\n",
      "Requirement already satisfied: pytz>=2020.1 in /Users/sesmart/coding/development/braket-examples/amazon-braket-examples/.venv/lib/python3.10/site-packages (from pandas->cirq-core<1.5.0,>=1.4.0->mitiq) (2025.2)\n",
      "Requirement already satisfied: tzdata>=2022.7 in /Users/sesmart/coding/development/braket-examples/amazon-braket-examples/.venv/lib/python3.10/site-packages (from pandas->cirq-core<1.5.0,>=1.4.0->mitiq) (2025.2)\n",
      "Requirement already satisfied: mpmath<1.4.0,>=1.1.0 in /Users/sesmart/coding/development/braket-examples/amazon-braket-examples/.venv/lib/python3.10/site-packages (from sympy->cirq-core<1.5.0,>=1.4.0->mitiq) (1.3.0)\n",
      "\n",
      "\u001b[1m[\u001b[0m\u001b[34;49mnotice\u001b[0m\u001b[1;39;49m]\u001b[0m\u001b[39;49m A new release of pip is available: \u001b[0m\u001b[31;49m25.1.1\u001b[0m\u001b[39;49m -> \u001b[0m\u001b[32;49m25.2\u001b[0m\n",
      "\u001b[1m[\u001b[0m\u001b[34;49mnotice\u001b[0m\u001b[1;39;49m]\u001b[0m\u001b[39;49m To update, run: \u001b[0m\u001b[32;49mpip install --upgrade pip\u001b[0m\n",
      "Note: you may need to restart the kernel to use updated packages.\n"
     ]
    }
   ],
   "source": [
    "# %pip install mitiq\n",
    "from braket.circuits import Circuit\n"
   ]
  },
  {
   "cell_type": "code",
   "execution_count": null,
   "id": "589f471f",
   "metadata": {},
   "outputs": [],
   "source": [
    "from braket.circuits import Circuit\n",
    "from braket.devices import LocalSimulator\n",
    "\n"
   ]
  }
 ],
 "metadata": {
  "kernelspec": {
   "display_name": ".venv",
   "language": "python",
   "name": "python3"
  },
  "language_info": {
   "codemirror_mode": {
    "name": "ipython",
    "version": 3
   },
   "file_extension": ".py",
   "mimetype": "text/x-python",
   "name": "python",
   "nbconvert_exporter": "python",
   "pygments_lexer": "ipython3",
   "version": "3.10.17"
  }
 },
 "nbformat": 4,
 "nbformat_minor": 5
}
