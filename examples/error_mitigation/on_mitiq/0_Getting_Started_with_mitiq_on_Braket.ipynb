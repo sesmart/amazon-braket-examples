{
 "cells": [
  {
   "cell_type": "markdown",
   "id": "4af17ce3",
   "metadata": {},
   "source": [
    "# Getting Started with Error Mitigation with mitiq on Braket \n",
    "\n",
    "The presence of errors in quantum computing ultimately hinders their application as well. The simplest model, i.e. local or globabl depolarizing noise, represents how noise generally removes information from a quantum system. Error mitigation attempts to, similar to improving a signal-to-noise ratio, generally at the cost of repeated measurements. \n",
    "\n",
    "mitiq is an open source Python toolkit for implementing error mitigation techniques, which covers a breadth of different methodoloies and tools. \n",
    "\n",
    "In these notebooks, we show to utilize mitiq with Amazon Braket, specifically focusing on utilizing Program Sets to orchestrate our job submissions. "
   ]
  },
  {
   "cell_type": "markdown",
   "id": "1e2e0813",
   "metadata": {},
   "source": [
    "## Overview on mitiq \n",
    " \n",
    "mitiq contains two methods for applying error mitigation generally. The first can be thought of as an automated way of calling error mitigation functions and then having an output returns. The second unpacks this procedure, separating the creation of circuits and their application and reassembly. \n",
    "\n",
    "Further details can be found at https://mitiq.readthedocs.io/en/stable/guide/guide.html\n",
    "\n",
    "In this example, we focus on the latter, as \n",
    "\n",
    "## Overview of Error Mitigation Techniques\n",
    "\n",
    "The mitiq library provides numerous error mitigation approaches as pre-implemented strategies. \n",
    "\n",
    "### Using Verbatim Circuits\n",
    "\n",
    "For most of these approaches, we will want to treat the circuit as a Verbatim circuit. This creates a more reliable thread between the submitted circuits and the hypothetical noise model which is being manipulated. If we were to submit as a non-verbatim circuit, we would likely \n",
    "\n",
    "#### Readout Error Mitigation\n",
    "\n",
    "Readout error mitigation is perhaps the most common error mitigation technique. The standard approach involves the construction of a confusion matrix, relating prepared input states to  measured output states. Specifically\n",
    "\n",
    "$$ C_{ij} = {\\rm Tr}{\\mathcal{E}[|i\\rangle \\langle i|]|j\\rangle \\langle j | }$$\n",
    "\n",
    "In postprocessing, we can apply the inverse of this matrix to try and account for these errors. The statistical variance is increased as a result, related by the cost of the inverse matrix generally. However, because this is essentially a one-time-cost, and can drastically helkp to defend against readout errors, this approach is extremely common.  \n",
    "\n",
    "\n",
    "#### Zero Noise Extrapolation\n",
    "\n",
    "#### Probabilistic Error Cancellation\n",
    "\n",
    "Probabilistic error cancellation forms the backbone of some of the most successful error mitigation strategies used  today, but can also be the most technical to implement. "
   ]
  },
  {
   "cell_type": "code",
   "execution_count": null,
   "id": "f8b3e89b",
   "metadata": {},
   "outputs": [],
   "source": []
  },
  {
   "cell_type": "markdown",
   "id": "c79c054e",
   "metadata": {},
   "source": [
    "First, we define a problem of interest. For the moment, we will look at a one-dimensional ising model. \n",
    "\n",
    "The Hamiltonian can be defined as $$ H = \\sum_{\\langle i,j\\rangle } Z_i Z_j + g \\sum_j X  $$. Thus, we will require two circuits, an all-X circuit and an all Z circuit to measure the observables. "
   ]
  },
  {
   "cell_type": "code",
   "execution_count": null,
   "id": "d9ae9875",
   "metadata": {},
   "outputs": [],
   "source": [
    "# first, let's consider a problem of interest\n",
    "\n",
    "def ising_observables(nq):\n",
    "    return \n",
    "\n",
    "def process_ising_model(z_res : dict, x_res : dict):\n",
    "    pass\n",
    "\n",
    "\n"
   ]
  },
  {
   "cell_type": "code",
   "execution_count": null,
   "id": "d05ab914",
   "metadata": {},
   "outputs": [],
   "source": []
  },
  {
   "cell_type": "code",
   "execution_count": null,
   "id": "f338e004",
   "metadata": {},
   "outputs": [],
   "source": []
  },
  {
   "cell_type": "code",
   "execution_count": 17,
   "id": "5dcaa1f3",
   "metadata": {},
   "outputs": [
    {
     "name": "stdout",
     "output_type": "stream",
     "text": [
      "q: 0.3\n",
      "0.6\n",
      "q: 0.32\n",
      "0.6\n",
      "q: 0.33999999999999997\n",
      "0.6\n",
      "q: 0.36\n",
      "0.6\n",
      "q: 0.38\n",
      "0.6\n",
      "q: 0.4\n",
      "0.6\n",
      "q: 0.42\n",
      "0.6\n",
      "q: 0.44\n",
      "0.6000000000000001\n",
      "q: 0.45999999999999996\n",
      "0.6\n",
      "q: 0.48\n",
      "0.6\n",
      "q: 0.5\n",
      "0.6\n"
     ]
    },
    {
     "data": {
      "text/plain": [
       "<matplotlib.collections.PathCollection at 0x1170ae240>"
      ]
     },
     "execution_count": 17,
     "metadata": {},
     "output_type": "execute_result"
    },
    {
     "data": {
      "image/png": "[encoded data removed]",
      "text/plain": [
       "<Figure size 640x480 with 1 Axes>"
      ]
     },
     "metadata": {},
     "output_type": "display_data"
    }
   ],
   "source": [
    "import matplotlib.pyplot as plt\n",
    "\n",
    "import numpy as np \n",
    "\n",
    "def expectation(f,p, q = None):\n",
    "    if q:\n",
    "        return np.dot(\n",
    "            np.multiply(\n",
    "                f,\n",
    "                np.divide(\n",
    "                    p,\n",
    "                    q\n",
    "                    )\n",
    "                ),\n",
    "            q\n",
    "                      )\n",
    "    return np.dot(f,p)\n",
    "\n",
    "def variance(f,p,q = None):\n",
    "    ev = expectation(f,p,q)\n",
    "    print(ev)\n",
    "    if q:\n",
    "        return np.sum(\n",
    "            np.divide(\n",
    "                np.square(\n",
    "                    np.multiply(f,p) - ev*np.array(q)\n",
    "                    ),\n",
    "                    q\n",
    "                )\n",
    "            )\n",
    "    return np.dot(f**2,p) - np.dot(f,p)**2\n",
    "\n",
    "def gradient(f, p, q):\n",
    "    ev = expectation(f,p,q)\n",
    "    grad = ev**2 - np.divide(\n",
    "        np.square(np.multiply(f,p)),\n",
    "        q\n",
    "    )\n",
    "    return grad\n",
    "\n",
    "f = [0.0,1.0]\n",
    "pi = 0.4\n",
    "p = [pi, 1-pi]\n",
    "\n",
    "evs = []\n",
    "vs  = []\n",
    "g0s = []\n",
    "g1s = []\n",
    "xs = np.linspace(0.3, 0.5, 11)\n",
    "for qi in xs:\n",
    "    q = [qi, 1-qi]\n",
    "    print(f'q: {qi}')\n",
    "    e,v = expectation(f,p,q), variance(f,p,q)\n",
    "    g = gradient(f,p,q)\n",
    "    evs.append(e)\n",
    "    vs.append(v)\n",
    "    g0s.append(g[0])\n",
    "    g1s.append(g[1])\n",
    "\n",
    "plt.scatter(xs,evs)\n",
    "plt.scatter(xs,vs)\n",
    "plt.scatter(xs,g0s, marker= 'x')\n",
    "plt.scatter(xs,g1s, marker= 'x')\n",
    "\n",
    "\n",
    "# Not\n",
    "\n"
   ]
  },
  {
   "cell_type": "code",
   "execution_count": null,
   "id": "73e29a79",
   "metadata": {},
   "outputs": [],
   "source": []
  }
 ],
 "metadata": {
  "kernelspec": {
   "display_name": ".venv",
   "language": "python",
   "name": "python3"
  },
  "language_info": {
   "codemirror_mode": {
    "name": "ipython",
    "version": 3
   },
   "file_extension": ".py",
   "mimetype": "text/x-python",
   "name": "python",
   "nbconvert_exporter": "python",
   "pygments_lexer": "ipython3",
   "version": "3.12.10"
  }
 },
 "nbformat": 4,
 "nbformat_minor": 5
}
