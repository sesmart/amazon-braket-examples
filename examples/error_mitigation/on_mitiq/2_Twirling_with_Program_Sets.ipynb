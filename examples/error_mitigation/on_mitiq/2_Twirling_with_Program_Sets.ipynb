{
 "cells": [
  {
   "cell_type": "markdown",
   "id": "e0a1abe7",
   "metadata": {},
   "source": [
    "# Twirling with Program Sets on mitiq \n",
    "\n",
    "In this notebook, we look at Pauli twirling, and specifically how this can be realized using Amazon Braket. "
   ]
  },
  {
   "cell_type": "markdown",
   "id": "dbad6ec8",
   "metadata": {},
   "source": [
    "##\n",
    "\n",
    "Pauli Twirling can be used to mitigate noise with\n",
    "\n",
    "Here, we show two ways this can be realized on Braket. The first is to use mitiq's built in Pauli Twirling module. The result is to create many different Paul variants defined for your circuits. "
   ]
  },
  {
   "cell_type": "code",
   "execution_count": null,
   "id": "39242c7c",
   "metadata": {},
   "outputs": [],
   "source": [
    "from mitiq import pt\n",
    "from braket.circuits import Circuit \n",
    "\n",
    "circ = Circuit()\n",
    "\n",
    "test = pt.generate_pauli_twirl_variants()\n",
    "\n",
    "\n",
    "# \n",
    "\n"
   ]
  },
  {
   "cell_type": "markdown",
   "id": "8c6325f7",
   "metadata": {},
   "source": [
    "## Background on Pauli Twirling Methodologies"
   ]
  }
 ],
 "metadata": {
  "language_info": {
   "name": "python"
  }
 },
 "nbformat": 4,
 "nbformat_minor": 5
}
